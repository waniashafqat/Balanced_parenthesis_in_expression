{
  "nbformat": 4,
  "nbformat_minor": 0,
  "metadata": {
    "colab": {
      "name": "LAB-06 (1 Nov)",
      "provenance": [],
      "collapsed_sections": [],
      "authorship_tag": "ABX9TyMFcvmSevrZGtJQqo8ncNmg",
      "include_colab_link": true
    },
    "kernelspec": {
      "name": "python3",
      "display_name": "Python 3"
    },
    "language_info": {
      "name": "python"
    }
  },
  "cells": [
    {
      "cell_type": "markdown",
      "metadata": {
        "id": "view-in-github",
        "colab_type": "text"
      },
      "source": [
        "<a href=\"https://colab.research.google.com/github/waniashafqat/Balanced_parenthesis_in_expression/blob/master/LAB.06%20-%20Linked%20Lists%20(01.Nov.21).ipynb\" target=\"_parent\"><img src=\"https://colab.research.google.com/assets/colab-badge.svg\" alt=\"Open In Colab\"/></a>"
      ]
    },
    {
      "cell_type": "markdown",
      "metadata": {
        "id": "RF-UF7KiuehY"
      },
      "source": [
        "# **LINKED LISTS**\n",
        "collection of nodes (data -> pointer)"
      ]
    },
    {
      "cell_type": "code",
      "metadata": {
        "id": "u3Qst31txZaC"
      },
      "source": [
        "# Basic class to make a Node.\n",
        "class Node:\n",
        "    def __init__(self, data=None, next=None):\n",
        "        self.data = data\n",
        "        self.next = next\n",
        "\n",
        "\n",
        "# Class for Linked List.\n",
        "class Linked_list:\n",
        "    # Constructor / Initializing attributes.\n",
        "    def __init__(self):\n",
        "        self.head = None\n",
        "\n",
        "\n",
        "    # Function to check the length of elements in the Linked list.\n",
        "    def len(self):\n",
        "        current = self.head\n",
        "        count = 0\n",
        "\n",
        "        while current.next != None:\n",
        "            current = current.next\n",
        "            count = count + 1\n",
        "\n",
        "        return count\n",
        "\n",
        "\n",
        "    # Function to append an element at the beginning.\n",
        "    def append_before(self, data):\n",
        "        new_node = Node(data)\n",
        "        current = self.head\n",
        "        self.head = new_node\n",
        "\n",
        "\n",
        "    # Function to append an element at the end.\n",
        "    def append_last(self, data):\n",
        "        if self.head is None:\n",
        "            self.head = Node(data, None)\n",
        "            return\n",
        "\n",
        "        current = self.head\n",
        "\n",
        "        while current.next != None:\n",
        "            current = current.next\n",
        "\n",
        "        current.next = Node(data, None)\n",
        "\n",
        "    # Function to append elements in the Linked List.\n",
        "    def append(self, data):\n",
        "        self.head = None\n",
        "        for letters in data:\n",
        "            self.append_last(letters)\n",
        "    \n",
        "\n",
        "    # Function to display elements in the Linked list.\n",
        "    def display(self):\n",
        "        if self.head is None:\n",
        "            print(\"Linked list is empty!\")\n",
        "            return\n",
        "\n",
        "        current = self.head\n",
        "        llstr = ''\n",
        "\n",
        "        while current:\n",
        "            llstr += str(current.data)+ ' --> ' if current.next else str(current.data)\n",
        "            current = current.next\n",
        "        print(llstr)\n",
        "\n",
        "\n",
        "    # Function to append an element at a certain index.\n",
        "    def index(self, index, data):\n",
        "        if (index > self.len()):\n",
        "            print(\"ERROR! The index is not correct.\")\n",
        "\n",
        "        if index == 0:\n",
        "            self.append_before(data)\n",
        "            return\n",
        "\n",
        "        count = 0\n",
        "        current = self.head\n",
        "        while current:\n",
        "            if count == index - 1:\n",
        "                node = Node(data, current.next)\n",
        "                current.next = node\n",
        "                break\n",
        "\n",
        "            current = current.next\n",
        "            count = count + 1\n",
        "\n",
        "\n",
        "    # Function to delete an element at a certain index.\n",
        "    def delete(self, index):\n",
        "        if index > self.len():\n",
        "            print(\"ERROR! The index is not correct.\")\n",
        "\n",
        "        if index == 0:\n",
        "            self.head = self.head.next\n",
        "            return\n",
        "\n",
        "        count = 0\n",
        "        current = self.head\n",
        "\n",
        "        while current != None:\n",
        "            if count == index - 1:\n",
        "                current.next = current.next.next\n",
        "                break\n",
        "            current = current.next\n",
        "            count = count + 1\n",
        "\n",
        "\n",
        "# Object.\n",
        "l = Linked_list()"
      ],
      "execution_count": 45,
      "outputs": []
    },
    {
      "cell_type": "code",
      "metadata": {
        "id": "IWIyPSKHyo23"
      },
      "source": [
        "print(\"\\nOriginal Linked list entered by the user.\")\n",
        "l.append([1, 2, 3])\n",
        "l.display()"
      ],
      "execution_count": null,
      "outputs": []
    },
    {
      "cell_type": "code",
      "metadata": {
        "id": "1Zbx-Q3-ywNg"
      },
      "source": [
        "print(\"\\nLinked list after inserting a new element at a certain index.\")\n",
        "l.index(2, \"4\")\n",
        "l.display()"
      ],
      "execution_count": null,
      "outputs": []
    },
    {
      "cell_type": "code",
      "metadata": {
        "id": "jmn2pUT2ywWz"
      },
      "source": [
        "print(\"\\nLinked list after deleting an element at a certain index.\")\n",
        "l.delete(2)\n",
        "l.display()"
      ],
      "execution_count": null,
      "outputs": []
    },
    {
      "cell_type": "code",
      "metadata": {
        "id": "tfVy16IpzCxV"
      },
      "source": [
        "print(\"\\nLinked list after inserting a new element at the end.\")\n",
        "l.append_last(5)\n",
        "l.display()"
      ],
      "execution_count": null,
      "outputs": []
    },
    {
      "cell_type": "code",
      "metadata": {
        "id": "MO-4CTVazRJX"
      },
      "source": [
        "l.len()"
      ],
      "execution_count": null,
      "outputs": []
    }
  ]
}