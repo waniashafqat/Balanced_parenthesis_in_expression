{
  "nbformat": 4,
  "nbformat_minor": 0,
  "metadata": {
    "colab": {
      "name": "LAB-06 (1 Nov)",
      "provenance": [],
      "collapsed_sections": [],
      "authorship_tag": "ABX9TyMFcvmSevrZGtJQqo8ncNmg",
      "include_colab_link": true
    },
    "kernelspec": {
      "name": "python3",
      "display_name": "Python 3"
    },
    "language_info": {
      "name": "python"
    }
  },
  "cells": [
    {
      "cell_type": "markdown",
      "metadata": {
        "id": "view-in-github",
        "colab_type": "text"
      },
      "source": [
        "<a href=\"https://colab.research.google.com/github/waniashafqat/Balanced_parenthesis_in_expression/blob/master/LAB_06%20-%20Linked%20Lists%20(1st_Nov).ipynb\" target=\"_parent\"><img src=\"https://colab.research.google.com/assets/colab-badge.svg\" alt=\"Open In Colab\"/></a>"
      ]
    },
    {
      "cell_type": "markdown",
      "metadata": {
        "id": "RF-UF7KiuehY"
      },
      "source": [
        "# **LINKED LISTS**\n",
        "collection of nodes (data -> pointer)"
      ]
    },
    {
      "cell_type": "code",
      "metadata": {
        "id": "u3Qst31txZaC"
      },
      "source": [
        "# Basic class to make a Node.\n",
        "class Node:\n",
        "    def __init__(self, data=None, next=None):\n",
        "        self.data = data\n",
        "        self.next = next\n",
        "\n",
        "\n",
        "# Class for Linked List.\n",
        "class Linked_list:\n",
        "    # Constructor / Initializing attributes.\n",
        "    def __init__(self):\n",
        "        self.head = None\n",
        "\n",
        "\n",
        "    # Function to check the length of elements in the Linked list.\n",
        "    def len(self):\n",
        "        current = self.head\n",
        "        count = 0\n",
        "\n",
        "        while current.next != None:\n",
        "            current = current.next\n",
        "            count = count + 1\n",
        "\n",
        "        return count\n",
        "\n",
        "\n",
        "    # Function to append an element at the beginning.\n",
        "    def append_before(self, data):\n",
        "        new_node = Node(data)\n",
        "        current = self.head\n",
        "        self.head = new_node\n",
        "\n",
        "\n",
        "    # Function to append an element at the end.\n",
        "    def append_last(self, data):\n",
        "        if self.head is None:\n",
        "            self.head = Node(data, None)\n",
        "            return\n",
        "\n",
        "        current = self.head\n",
        "\n",
        "        while current.next != None:\n",
        "            current = current.next\n",
        "\n",
        "        current.next = Node(data, None)\n",
        "\n",
        "    # Function to append elements in the Linked List.\n",
        "    def append(self, data):\n",
        "        self.head = None\n",
        "        for letters in data:\n",
        "            self.append_last(letters)\n",
        "    \n",
        "\n",
        "    # Function to display elements in the Linked list.\n",
        "    def display(self):\n",
        "        if self.head is None:\n",
        "            print(\"Linked list is empty!\")\n",
        "            return\n",
        "\n",
        "        current = self.head\n",
        "        llstr = ''\n",
        "\n",
        "        while current:\n",
        "            llstr += str(current.data)+ ' --> ' if current.next else str(current.data)\n",
        "            current = current.next\n",
        "        print(llstr)\n",
        "\n",
        "\n",
        "    # Function to append an element at a certain index.\n",
        "    def index(self, index, data):\n",
        "        if (index > self.len()):\n",
        "            print(\"ERROR! The index is not correct.\")\n",
        "\n",
        "        if index == 0:\n",
        "            self.append_before(data)\n",
        "            return\n",
        "\n",
        "        count = 0\n",
        "        current = self.head\n",
        "        while current:\n",
        "            if count == index - 1:\n",
        "                node = Node(data, current.next)\n",
        "                current.next = node\n",
        "                break\n",
        "\n",
        "            current = current.next\n",
        "            count = count + 1\n",
        "\n",
        "\n",
        "    # Function to delete an element at a certain index.\n",
        "    def delete(self, index):\n",
        "        if index > self.len():\n",
        "            print(\"ERROR! The index is not correct.\")\n",
        "\n",
        "        if index == 0:\n",
        "            self.head = self.head.next\n",
        "            return\n",
        "\n",
        "        count = 0\n",
        "        current = self.head\n",
        "\n",
        "        while current != None:\n",
        "            if count == index - 1:\n",
        "                current.next = current.next.next\n",
        "                break\n",
        "            current = current.next\n",
        "            count = count + 1\n",
        "\n",
        "\n",
        "# Object.\n",
        "l = Linked_list()"
      ],
      "execution_count": 45,
      "outputs": []
    },
    {
      "cell_type": "code",
      "metadata": {
        "colab": {
          "base_uri": "https://localhost:8080/"
        },
        "id": "IWIyPSKHyo23",
        "outputId": "c572bfb8-4b69-4167-8427-a94dcd22da15"
      },
      "source": [
        "print(\"\\nOriginal Linked list entered by the user.\")\n",
        "l.append([1, 2, 3])\n",
        "l.display()"
      ],
      "execution_count": 46,
      "outputs": [
        {
          "output_type": "stream",
          "name": "stdout",
          "text": [
            "\n",
            "Original Linked list entered by the user.\n",
            "1 --> 2 --> 3\n"
          ]
        }
      ]
    },
    {
      "cell_type": "code",
      "metadata": {
        "colab": {
          "base_uri": "https://localhost:8080/"
        },
        "id": "1Zbx-Q3-ywNg",
        "outputId": "3c6aaf4e-204b-4012-eadf-02ff881b6114"
      },
      "source": [
        "print(\"\\nLinked list after inserting a new element at a certain index.\")\n",
        "l.index(2, \"4\")\n",
        "l.display()"
      ],
      "execution_count": 40,
      "outputs": [
        {
          "output_type": "stream",
          "name": "stdout",
          "text": [
            "\n",
            "Linked list after inserting a new element at a certain index.\n",
            "1 --> 2 --> 4 --> 3\n"
          ]
        }
      ]
    },
    {
      "cell_type": "code",
      "metadata": {
        "colab": {
          "base_uri": "https://localhost:8080/"
        },
        "id": "jmn2pUT2ywWz",
        "outputId": "49536be2-2ade-42bf-cbe9-8d296f737f72"
      },
      "source": [
        "print(\"\\nLinked list after deleting an element at a certain index.\")\n",
        "l.delete(2)\n",
        "l.display()"
      ],
      "execution_count": 41,
      "outputs": [
        {
          "output_type": "stream",
          "name": "stdout",
          "text": [
            "\n",
            "Linked list after deleting an element at a certain index.\n",
            "1 --> 2 --> 3\n"
          ]
        }
      ]
    },
    {
      "cell_type": "code",
      "metadata": {
        "colab": {
          "base_uri": "https://localhost:8080/"
        },
        "id": "tfVy16IpzCxV",
        "outputId": "5ca6ca8c-e9b0-473d-dcf6-4d9ea017c2c1"
      },
      "source": [
        "print(\"\\nLinked list after inserting a new element at the end.\")\n",
        "l.append_last(5)\n",
        "l.display()"
      ],
      "execution_count": 42,
      "outputs": [
        {
          "output_type": "stream",
          "name": "stdout",
          "text": [
            "\n",
            "Linked list after inserting a new element at the end.\n",
            "1 --> 2 --> 3 --> 5\n"
          ]
        }
      ]
    },
    {
      "cell_type": "code",
      "metadata": {
        "colab": {
          "base_uri": "https://localhost:8080/"
        },
        "id": "MO-4CTVazRJX",
        "outputId": "e994c5aa-9652-4e51-8c2d-833417616a79"
      },
      "source": [
        "l.len()"
      ],
      "execution_count": 43,
      "outputs": [
        {
          "output_type": "execute_result",
          "data": {
            "text/plain": [
              "3"
            ]
          },
          "metadata": {},
          "execution_count": 43
        }
      ]
    }
  ]
}