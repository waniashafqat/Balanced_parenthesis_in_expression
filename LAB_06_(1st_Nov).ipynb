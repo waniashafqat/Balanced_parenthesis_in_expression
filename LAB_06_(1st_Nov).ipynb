{
  "nbformat": 4,
  "nbformat_minor": 0,
  "metadata": {
    "colab": {
      "name": "LAB-06 (1 Nov)",
      "provenance": [],
      "collapsed_sections": [],
      "authorship_tag": "ABX9TyP1g10N1S5Fs+wpNbsAUQT2",
      "include_colab_link": true
    },
    "kernelspec": {
      "name": "python3",
      "display_name": "Python 3"
    },
    "language_info": {
      "name": "python"
    }
  },
  "cells": [
    {
      "cell_type": "markdown",
      "metadata": {
        "id": "view-in-github",
        "colab_type": "text"
      },
      "source": [
        "<a href=\"https://colab.research.google.com/github/waniashafqat/Balanced_parenthesis_in_expression/blob/master/LAB_06_(1st_Nov).ipynb\" target=\"_parent\"><img src=\"https://colab.research.google.com/assets/colab-badge.svg\" alt=\"Open In Colab\"/></a>"
      ]
    },
    {
      "cell_type": "markdown",
      "metadata": {
        "id": "RF-UF7KiuehY"
      },
      "source": [
        "# **LINKED LISTS**\n",
        "collection of nodes (data -> pointer)"
      ]
    },
    {
      "cell_type": "code",
      "metadata": {
        "id": "WrnDAqiIq1Wk"
      },
      "source": [
        "# Basic class to make a Node.\n",
        "class Node:\n",
        "  def __init__(self, data = None):\n",
        "    self.data = data\n",
        "    self.next = None   # next pointer\n",
        "    #print(\"Node has been created.\")\n",
        "\n",
        "class Linked_list:\n",
        "  def __init__(self):\n",
        "    self.head = Node()  # It will execute the class 'Node' first.\n",
        "    #print(\"Head is initialized.\")\n",
        "\n",
        "  # Append at last.\n",
        "  def append (self, data):\n",
        "    new_node = Node(data)\n",
        "    current = self.head\n",
        "\n",
        "    while current.next != None:\n",
        "      current = current.next\n",
        "\n",
        "    current.next = new_node\n",
        "\n",
        "  # Append at first.\n",
        "  def append_before(self, data):\n",
        "    new_node = Node(data)\n",
        "    current = self.head\n",
        "    self.head = new_node\n",
        "\n",
        "  # Delete\n",
        "  def delete(self):\n",
        "    current = self.head\n",
        "    dis = []\n",
        "\n",
        "    while current.next != None:\n",
        "      secondlast_node = current.next\n",
        "      current = current.next\n",
        "\n",
        "    current.next = None\n",
        "\n",
        "  def len(self):\n",
        "    current = self.head\n",
        "    count = 0\n",
        "    \n",
        "    while current.next != None:\n",
        "      current = current.next\n",
        "      count = count + 1\n",
        "    \n",
        "    return count\n",
        "\n",
        "  # Append at a certain index.\n",
        "  def index(data, index):\n",
        "    if (index > length):\n",
        "      print(\"Index is out of bound.\")\n",
        "\n",
        "    else:\n",
        "      #new_node = node(data)\n",
        "      current = self.head\n",
        "      \n",
        "      for i in range(data, index -1):\n",
        "        if(current != None):\n",
        "          current = current.next\n",
        "\n",
        "      if (current != None):\n",
        "        new_node.next = current.next\n",
        "        current.next = new_node\n",
        "\n",
        "      else:\n",
        "        print(\"Previous node is empty.\")\n",
        "\n",
        "\n",
        "  # Storing values.\n",
        "  def display(self):\n",
        "    current = self.head\n",
        "    dis = []\n",
        "\n",
        "    while current.next != None:\n",
        "      current = current.next\n",
        "      dis.append(current.data)\n",
        "\n",
        "    print(dis)\n",
        "\n",
        "\n",
        "# Object for class Linked_list.\n",
        "l = Linked_list()"
      ],
      "execution_count": null,
      "outputs": []
    },
    {
      "cell_type": "code",
      "metadata": {
        "id": "mzJGiPP3APPT"
      },
      "source": [
        "l.append(1)"
      ],
      "execution_count": null,
      "outputs": []
    },
    {
      "cell_type": "code",
      "metadata": {
        "id": "ZVvsmJgbAjBU"
      },
      "source": [
        "l.append(2)"
      ],
      "execution_count": null,
      "outputs": []
    },
    {
      "cell_type": "code",
      "metadata": {
        "colab": {
          "base_uri": "https://localhost:8080/"
        },
        "id": "d4Q21ov2Cfwc",
        "outputId": "90c29413-94d4-4902-9b9e-9f88634deacb"
      },
      "source": [
        "l.display()"
      ],
      "execution_count": null,
      "outputs": [
        {
          "output_type": "stream",
          "name": "stdout",
          "text": [
            "[1, 2]\n"
          ]
        }
      ]
    },
    {
      "cell_type": "code",
      "metadata": {
        "id": "MlXA67SoATKC"
      },
      "source": [
        "l.append_before(1)"
      ],
      "execution_count": null,
      "outputs": []
    },
    {
      "cell_type": "code",
      "metadata": {
        "colab": {
          "base_uri": "https://localhost:8080/"
        },
        "id": "durk_t2HCmja",
        "outputId": "2bce9f7b-4f4f-4f6a-8add-e7a498a9f9e9"
      },
      "source": [
        "l.display()"
      ],
      "execution_count": null,
      "outputs": [
        {
          "output_type": "stream",
          "name": "stdout",
          "text": [
            "[]\n"
          ]
        }
      ]
    },
    {
      "cell_type": "code",
      "metadata": {
        "id": "PErKOR2fAU9f"
      },
      "source": [
        "l.delete()"
      ],
      "execution_count": null,
      "outputs": []
    },
    {
      "cell_type": "code",
      "metadata": {
        "colab": {
          "base_uri": "https://localhost:8080/"
        },
        "id": "vNqK5vzJAXd3",
        "outputId": "7a1a7d39-5dee-4342-8322-ac52ac4ce090"
      },
      "source": [
        "l.display()"
      ],
      "execution_count": null,
      "outputs": [
        {
          "output_type": "stream",
          "name": "stdout",
          "text": [
            "[]\n"
          ]
        }
      ]
    },
    {
      "cell_type": "code",
      "metadata": {
        "colab": {
          "base_uri": "https://localhost:8080/"
        },
        "id": "1W8REzk-AY90",
        "outputId": "2243c566-e193-4d1b-ad07-78a515c3ad57"
      },
      "source": [
        "l.len()"
      ],
      "execution_count": null,
      "outputs": [
        {
          "output_type": "execute_result",
          "data": {
            "text/plain": [
              "0"
            ]
          },
          "metadata": {},
          "execution_count": 72
        }
      ]
    }
  ]
}